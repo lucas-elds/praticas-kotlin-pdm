{
 "cells": [
  {
   "metadata": {},
   "cell_type": "markdown",
   "source": " # 1. Declaração de Funções"
  },
  {
   "cell_type": "code",
   "metadata": {
    "collapsed": true,
    "ExecuteTime": {
     "end_time": "2024-11-19T13:42:49.895810300Z",
     "start_time": "2024-11-19T13:42:49.703772900Z"
    }
   },
   "source": [
    "fun apresentarPessoa(nome: String, idade: Int): String {\n",
    "    // Implemente a função para retornar \"Nome: <nome>, Idade: <idade>\"\n",
    "    // Exemplo de chamada: apresentarPessoa(\"Ana\", 30)\n",
    "    // Resultado esperado: \"Nome: Ana, Idade: 30\"\n",
    "    var impressao = \"Nome: $nome, idade: $idade\"\n",
    "    return impressao\n",
    "}\n",
    "\n",
    "apresentarPessoa(\"Ana\", 30)"
   ],
   "outputs": [
    {
     "data": {
      "text/plain": [
       "Nome: Ana, idade: 30"
      ]
     },
     "execution_count": 10,
     "metadata": {},
     "output_type": "execute_result"
    }
   ],
   "execution_count": 10
  },
  {
   "metadata": {
    "ExecuteTime": {
     "end_time": "2024-11-19T13:43:06.258570900Z",
     "start_time": "2024-11-19T13:43:06.013859400Z"
    }
   },
   "cell_type": "code",
   "source": [
    "fun calcularAreaCirculo(raio: Double): Double {\n",
    "    // Implemente a função para retornar a área do círculo dado o raio\n",
    "    // Exemplo de chamada: calcularAreaCirculo(5.0)\n",
    "    // Resultado esperado: 78.53981633974483\n",
    "    val pi = 3.1415926535\n",
    "    var calculo = pi * (raio*raio)\n",
    "    return calculo\n",
    "}\n",
    "\n",
    "calcularAreaCirculo(5.0)"
   ],
   "outputs": [
    {
     "data": {
      "text/plain": [
       "78.5398163375"
      ]
     },
     "execution_count": 11,
     "metadata": {},
     "output_type": "execute_result"
    }
   ],
   "execution_count": 11
  },
  {
   "metadata": {},
   "cell_type": "markdown",
   "source": "# 2. Parâmetros"
  },
  {
   "metadata": {
    "ExecuteTime": {
     "end_time": "2024-11-19T13:43:26.843290700Z",
     "start_time": "2024-11-19T13:43:26.564382600Z"
    }
   },
   "cell_type": "code",
   "source": [
    "fun descreverProduto(nome: String, preco: Double, quantidade: Int): String {\n",
    "    // Implemente a função para retornar \"Produto: <nome>, Preço: <preco>, Quantidade: <quantidade>\"\n",
    "    // Exemplo de chamada: descreverProduto(\"Caneta\", 1.50, 10)\n",
    "    // Resultado esperado: \"Produto: Caneta, Preço: 1.5, Quantidade: 10\"\n",
    "    var impressao = \"Produto: $nome, Preço: $preco, Quantidade: $quantidade\"\n",
    "    return impressao\n",
    "}\n",
    "\n",
    "descreverProduto(\"Caneta\", 1.50, 10)"
   ],
   "outputs": [
    {
     "data": {
      "text/plain": [
       "Produto: Caneta, Preço: 1.5, Quantidade: 10"
      ]
     },
     "execution_count": 12,
     "metadata": {},
     "output_type": "execute_result"
    }
   ],
   "execution_count": 12
  },
  {
   "metadata": {
    "ExecuteTime": {
     "end_time": "2024-11-19T13:47:03.734670500Z",
     "start_time": "2024-11-19T13:47:03.458912400Z"
    }
   },
   "cell_type": "code",
   "source": [
    "fun calcularDesconto(preco: Double, porcentagemDesconto: Double): Double {\n",
    "    // Implemente a função para calcular o preço com desconto\n",
    "    // Exemplo de chamada: calcularDesconto(100.0, 15.0)\n",
    "    // Resultado esperado: 85.0\n",
    "    var desconto = preco * (porcentagemDesconto / 100)\n",
    "    var precoComDesconto = preco - desconto\n",
    "    return precoComDesconto\n",
    "}\n",
    "\n",
    "calcularDesconto(100.0, 15.0)"
   ],
   "outputs": [
    {
     "data": {
      "text/plain": [
       "85.0"
      ]
     },
     "execution_count": 13,
     "metadata": {},
     "output_type": "execute_result"
    }
   ],
   "execution_count": 13
  },
  {
   "metadata": {},
   "cell_type": "markdown",
   "source": "# 3. Retornos"
  },
  {
   "metadata": {
    "ExecuteTime": {
     "end_time": "2024-11-19T13:47:41.900949Z",
     "start_time": "2024-11-19T13:47:41.209389400Z"
    }
   },
   "cell_type": "code",
   "source": [
    "fun obterMaiorNumero(a: Int, b: Int): Int {\n",
    "    // Implemente a função para retornar o maior número entre a e b\n",
    "    // Exemplo de chamada: obterMaiorNumero(5, 10)\n",
    "    // Resultado esperado: 10\n",
    "    if (a > b) {\n",
    "        return a\n",
    "    } else {\n",
    "        return b\n",
    "    }\n",
    "}\n",
    "\n",
    "obterMaiorNumero(5, 10)"
   ],
   "outputs": [
    {
     "data": {
      "text/plain": [
       "10"
      ]
     },
     "execution_count": 14,
     "metadata": {},
     "output_type": "execute_result"
    }
   ],
   "execution_count": 14
  },
  {
   "metadata": {
    "ExecuteTime": {
     "end_time": "2024-11-19T13:48:06.691705900Z",
     "start_time": "2024-11-19T13:48:06.445851Z"
    }
   },
   "cell_type": "code",
   "source": [
    "fun verificarIdadeParaVotar(idade: Int): Boolean {\n",
    "    // Implemente a função para verificar se a idade é suficiente para votar\n",
    "    // Exemplo de chamada: verificarIdadeParaVotar(20)\n",
    "    // Resultado esperado: true\n",
    "    if (idade >= 16) {\n",
    "        return true\n",
    "    } else {\n",
    "        return false\n",
    "    }\n",
    "\n",
    "}\n",
    "\n",
    "verificarIdadeParaVotar(20)"
   ],
   "outputs": [
    {
     "data": {
      "text/plain": [
       "true"
      ]
     },
     "execution_count": 15,
     "metadata": {},
     "output_type": "execute_result"
    }
   ],
   "execution_count": 15
  },
  {
   "metadata": {},
   "cell_type": "markdown",
   "source": "# 4. Funções de Ordem Superior"
  },
  {
   "metadata": {
    "ExecuteTime": {
     "end_time": "2024-11-19T13:48:51.014487600Z",
     "start_time": "2024-11-19T13:48:50.747736600Z"
    }
   },
   "cell_type": "code",
   "source": [
    "fun operacaoComNumero(numero: Double, operacao: (Double) -> Double): Double {\n",
    "    // Implemente a função para aplicar a operação ao número\n",
    "    // Exemplo de chamada: operacaoComNumero(10.0) { it * 2 }\n",
    "    // Resultado esperado: 20.0\n",
    "    var calculo = operacao(numero)\n",
    "    return calculo\n",
    "}\n",
    "\n",
    "operacaoComNumero(10.0) { it * 2 }"
   ],
   "outputs": [
    {
     "data": {
      "text/plain": [
       "20.0"
      ]
     },
     "execution_count": 16,
     "metadata": {},
     "output_type": "execute_result"
    }
   ],
   "execution_count": 16
  },
  {
   "metadata": {
    "ExecuteTime": {
     "end_time": "2024-11-20T01:38:49.376699400Z",
     "start_time": "2024-11-20T01:38:46.995493700Z"
    }
   },
   "cell_type": "code",
   "source": [
    "fun filtrarNumerosPositivos(numeros: List<Int>, filtro: (Int) -> Boolean): List<Int> {\n",
    "    // Implemente a função para filtrar números positivos\n",
    "    // Exemplo de chamada: filtrarNumerosPositivos(listOf(-1, 2, 3, -4)) { it > 0 }\n",
    "    // Resultado esperado: [2, 3]\n",
    "    return numeros.filter(filtro)\n",
    "}\n",
    "\n",
    "filtrarNumerosPositivos(listOf(-1, 2, 3, -4)) { it > 0 }"
   ],
   "outputs": [
    {
     "data": {
      "text/plain": [
       "[2, 3]"
      ]
     },
     "execution_count": 1,
     "metadata": {},
     "output_type": "execute_result"
    }
   ],
   "execution_count": 1
  },
  {
   "metadata": {},
   "cell_type": "markdown",
   "source": "# Lambdas"
  },
  {
   "metadata": {
    "ExecuteTime": {
     "end_time": "2024-11-20T01:53:19.276621800Z",
     "start_time": "2024-11-20T01:53:16.666552300Z"
    }
   },
   "cell_type": "code",
   "source": [
    "val ehPar: (Int) -> Boolean = { numero -> numero % 2 == 0\n",
    "    // Implemente a expressão lambda para verificar se o número é par\n",
    "    // Exemplo de chamada: ehPar(4)\n",
    "    // Resultado esperado: true\n",
    "}\n",
    "\n",
    "ehPar(4)"
   ],
   "outputs": [
    {
     "data": {
      "text/plain": [
       "true"
      ]
     },
     "execution_count": 2,
     "metadata": {},
     "output_type": "execute_result"
    }
   ],
   "execution_count": 2
  },
  {
   "metadata": {
    "ExecuteTime": {
     "end_time": "2024-11-20T01:53:35.915478100Z",
     "start_time": "2024-11-20T01:53:35.399747300Z"
    }
   },
   "cell_type": "code",
   "source": [
    "val calcularSalario: (Int, Double) -> Double = { horasTrabalhadas, valorPorHora -> horasTrabalhadas * valorPorHora\n",
    "    // Implemente a expressão lambda para calcular o salário com base nas horas trabalhadas e valor por hora\n",
    "    // Exemplo de chamada: calcularSalario(40, 15.0)\n",
    "    // Resultado esperado: 600.0\n",
    "}\n",
    "\n",
    "calcularSalario(40, 15.0)"
   ],
   "outputs": [
    {
     "data": {
      "text/plain": [
       "600.0"
      ]
     },
     "execution_count": 3,
     "metadata": {},
     "output_type": "execute_result"
    }
   ],
   "execution_count": 3
  }
 ],
 "metadata": {
  "kernelspec": {
   "display_name": "Kotlin",
   "language": "kotlin",
   "name": "kotlin"
  },
  "language_info": {
   "name": "kotlin",
   "version": "1.9.23",
   "mimetype": "text/x-kotlin",
   "file_extension": ".kt",
   "pygments_lexer": "kotlin",
   "codemirror_mode": "text/x-kotlin",
   "nbconvert_exporter": ""
  }
 },
 "nbformat": 4,
 "nbformat_minor": 0
}
